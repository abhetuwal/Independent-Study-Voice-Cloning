{
 "cells": [
  {
   "cell_type": "code",
   "execution_count": 1,
   "id": "04fb0599",
   "metadata": {},
   "outputs": [
    {
     "ename": "ValueError",
     "evalue": "operands could not be broadcast together with shapes (402464,) (263360,) ",
     "output_type": "error",
     "traceback": [
      "\u001b[1;31m---------------------------------------------------------------------------\u001b[0m",
      "\u001b[1;31mValueError\u001b[0m                                Traceback (most recent call last)",
      "\u001b[1;32mc:\\Python_MS_in_AI\\bark-with-voice-clone\\compare.ipynb Cell 1\u001b[0m line \u001b[0;36m9\n\u001b[0;32m      <a href='vscode-notebook-cell:/c%3A/Python_MS_in_AI/bark-with-voice-clone/compare.ipynb#W0sZmlsZQ%3D%3D?line=5'>6</a>\u001b[0m cloned_audio, sr \u001b[39m=\u001b[39m librosa\u001b[39m.\u001b[39mload(\u001b[39m\"\u001b[39m\u001b[39mC:/Python_MS_in_AI/bark-with-voice-clone/output/professor zhang control token 44_part3.wav\u001b[39m\u001b[39m\"\u001b[39m, sr\u001b[39m=\u001b[39m\u001b[39mNone\u001b[39;00m)\n\u001b[0;32m      <a href='vscode-notebook-cell:/c%3A/Python_MS_in_AI/bark-with-voice-clone/compare.ipynb#W0sZmlsZQ%3D%3D?line=7'>8</a>\u001b[0m \u001b[39m# Calculate the signal-to-noise ratio (SNR)\u001b[39;00m\n\u001b[1;32m----> <a href='vscode-notebook-cell:/c%3A/Python_MS_in_AI/bark-with-voice-clone/compare.ipynb#W0sZmlsZQ%3D%3D?line=8'>9</a>\u001b[0m snr \u001b[39m=\u001b[39m \u001b[39m20\u001b[39m \u001b[39m*\u001b[39m np\u001b[39m.\u001b[39mlog10(np\u001b[39m.\u001b[39mlinalg\u001b[39m.\u001b[39mnorm(original_audio) \u001b[39m/\u001b[39m np\u001b[39m.\u001b[39mlinalg\u001b[39m.\u001b[39mnorm(original_audio \u001b[39m-\u001b[39;49m cloned_audio))\n\u001b[0;32m     <a href='vscode-notebook-cell:/c%3A/Python_MS_in_AI/bark-with-voice-clone/compare.ipynb#W0sZmlsZQ%3D%3D?line=10'>11</a>\u001b[0m \u001b[39m# Calculate the root mean square error (RMSE)\u001b[39;00m\n\u001b[0;32m     <a href='vscode-notebook-cell:/c%3A/Python_MS_in_AI/bark-with-voice-clone/compare.ipynb#W0sZmlsZQ%3D%3D?line=11'>12</a>\u001b[0m rmse \u001b[39m=\u001b[39m np\u001b[39m.\u001b[39msqrt(np\u001b[39m.\u001b[39mmean((original_audio \u001b[39m-\u001b[39m cloned_audio) \u001b[39m*\u001b[39m\u001b[39m*\u001b[39m \u001b[39m2\u001b[39m))\n",
      "\u001b[1;31mValueError\u001b[0m: operands could not be broadcast together with shapes (402464,) (263360,) "
     ]
    }
   ],
   "source": [
    "import librosa\n",
    "import numpy as np\n",
    "\n",
    "# Load the original and cloned audio files\n",
    "original_audio, sr = librosa.load(\"C:/Python_MS_in_AI/bark-with-voice-clone/datasets/60 clips professor audio/wavs/44.wav\", sr=None)\n",
    "cloned_audio, sr = librosa.load(\"C:/Python_MS_in_AI/bark-with-voice-clone/output/professor zhang control token 44_part3.wav\", sr=None)\n",
    "\n",
    "# Calculate the signal-to-noise ratio (SNR)\n",
    "snr = 20 * np.log10(np.linalg.norm(original_audio) / np.linalg.norm(original_audio - cloned_audio))\n",
    "\n",
    "# Calculate the root mean square error (RMSE)\n",
    "rmse = np.sqrt(np.mean((original_audio - cloned_audio) ** 2))\n",
    "\n",
    "print(\"Signal-to-Noise Ratio (SNR):\", snr, \"dB\")\n",
    "print(\"Root Mean Square Error (RMSE):\", rmse)"
   ]
  }
 ],
 "metadata": {
  "kernelspec": {
   "display_name": "Python 3 (ipykernel)",
   "language": "python",
   "name": "python3"
  },
  "language_info": {
   "codemirror_mode": {
    "name": "ipython",
    "version": 3
   },
   "file_extension": ".py",
   "mimetype": "text/x-python",
   "name": "python",
   "nbconvert_exporter": "python",
   "pygments_lexer": "ipython3",
   "version": "3.10.11"
  }
 },
 "nbformat": 4,
 "nbformat_minor": 5
}
